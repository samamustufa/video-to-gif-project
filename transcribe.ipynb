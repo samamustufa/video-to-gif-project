{
 "cells": [
  {
   "cell_type": "code",
   "execution_count": 3,
   "metadata": {},
   "outputs": [],
   "source": [
    "import whisper\n",
    "\n",
    "model = whisper.load_model(\"small\")\n"
   ]
  },
  {
   "cell_type": "code",
   "execution_count": 8,
   "metadata": {},
   "outputs": [],
   "source": [
    "file_name = r\"D:\\projects_python\\New folder\\input_video.mp4\"\n",
    "result = model.transcribe(file_name)\n",
    "\n",
    "# Save as an SRT file\n",
    "from whisper.utils import get_writer\n",
    "output_directory = r\"D:\\projects_python\\New folder\\New folder\"\n",
    "\n",
    "srt_writer = get_writer(\"srt\", output_directory)\n",
    "srt_writer(result, file_name)"
   ]
  }
 ],
 "metadata": {
  "kernelspec": {
   "display_name": "base",
   "language": "python",
   "name": "python3"
  },
  "language_info": {
   "codemirror_mode": {
    "name": "ipython",
    "version": 3
   },
   "file_extension": ".py",
   "mimetype": "text/x-python",
   "name": "python",
   "nbconvert_exporter": "python",
   "pygments_lexer": "ipython3",
   "version": "3.11.5"
  }
 },
 "nbformat": 4,
 "nbformat_minor": 2
}
